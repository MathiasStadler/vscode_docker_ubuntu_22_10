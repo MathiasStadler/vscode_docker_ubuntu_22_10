{
 "cells": [
  {
   "cell_type": "markdown",
   "metadata": {},
   "source": [
    "# Try out create docker ubuntu 22.10 image"
   ]
  },
  {
   "cell_type": "markdown",
   "metadata": {},
   "source": [
    "## OS Base\n",
    "[format from here](https://askubuntu.com/questions/461144/how-to-replace-spaces-with-newlines-enter-in-a-text-file)"
   ]
  },
  {
   "cell_type": "code",
   "execution_count": 4,
   "metadata": {
    "vscode": {
     "languageId": "shellscript"
    }
   },
   "outputs": [
    {
     "name": "stdout",
     "output_type": "stream",
     "text": [
      "Linux\n",
      "trapapa-ThinkPad-T430\n",
      "6.2.0-34-generic\n",
      "#34~22.04.1-Ubuntu SMP PREEMPT_DYNAMIC Thu Sep  7 13:12:03 UTC 2\n",
      "x86_64\n",
      "GNU/Linux\n"
     ]
    }
   ],
   "source": [
    "# uname -a |sed 's/ /\\n/g'\n",
    "uname -s\n",
    "uname -n\n",
    "uname -r\n",
    "uname -v\n",
    "uname -p\n",
    "uname -o\n"
   ]
  }
 ],
 "metadata": {
  "kernelspec": {
   "display_name": "Bash",
   "language": "bash",
   "name": "bash"
  },
  "language_info": {
   "codemirror_mode": "shell",
   "file_extension": ".sh",
   "mimetype": "text/x-sh",
   "name": "bash"
  }
 },
 "nbformat": 4,
 "nbformat_minor": 2
}
